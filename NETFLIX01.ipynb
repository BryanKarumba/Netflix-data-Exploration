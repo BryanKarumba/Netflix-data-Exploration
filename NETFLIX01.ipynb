{
 "cells": [
  {
   "cell_type": "markdown",
   "id": "f2d24b80",
   "metadata": {},
   "source": [
    "# 1.Problem Statement"
   ]
  },
  {
   "cell_type": "markdown",
   "id": "4273a426",
   "metadata": {},
   "source": [
    "Netflix!What started in 1997 as a DVD rental service has since exploded into the largest entertainment/media company by market capitalization, boasting over 200 million subscribers of January 2021.\n",
    "\n",
    "Given the large number of movies and series available on the platform, it is perfect opportunity to flex my data manipulation skills and dive into the entertainment industry. My friend has also been brushing up on their Python skills and has taken a first crack at a CSV file containing Netflix data. For their first order of business, they have been performing some analyses, and they believe that the average duration of movies has been declining.\n",
    "\n",
    "As evidence of this, they have provided us with the following information. For the years from 2011 to 2020, the average movie durations are 103, 101, 99, 100, 100, 95, 95, 96, 93, and 90, respectively.\n",
    "\n",
    "If I am going to be working with this data, I know a good place to start would be to probably start working with pandas. But first I need to create a DataFrame from scratch. For the project I had to create a dictionary first."
   ]
  },
  {
   "cell_type": "code",
   "execution_count": 1,
   "id": "b43b2854",
   "metadata": {},
   "outputs": [
    {
     "data": {
      "text/plain": [
       "{'years': [2011, 2012, 2013, 2014, 2015, 2016, 2017, 2018, 2019, 2020],\n",
       " 'durations': [103, 101, 99, 100, 100, 95, 95, 96, 93, 90]}"
      ]
     },
     "execution_count": 1,
     "metadata": {},
     "output_type": "execute_result"
    }
   ],
   "source": [
    "#CREATING THE YEARS AND DURATION DATAFRAME\n",
    "years = [2011, 2012, 2013, 2014, 2015, 2016, 2017, 2018, 2019, 2020]\n",
    "durations = [103, 101, 99, 100, 100, 95, 95, 96, 93, 90]\n",
    "\n",
    "#DICTIONARY WITH THE TWO\n",
    "movie_dict={'years':years, 'durations':durations}\n",
    "movie_dict"
   ]
  },
  {
   "cell_type": "markdown",
   "id": "6c3da027",
   "metadata": {},
   "source": [
    "# 2. Data Collection"
   ]
  },
  {
   "cell_type": "markdown",
   "id": "290919b0",
   "metadata": {},
   "source": [
    "To convert my dictionary movie_dict to a pandas DataFrame, I first need to import the library under its usual alias pd. \n",
    "I also want to inspect my DataFrame to ensure it was created createdly correctly."
   ]
  },
  {
   "cell_type": "code",
   "execution_count": null,
   "id": "834a505c",
   "metadata": {},
   "outputs": [],
   "source": [
    "# # Import pandas \n",
    "import pandas as pd\n",
    "\n",
    "# Create a DataFrame from the dictionary\n",
    "durations_dataframe = pd.DataFrame(movie_dict)\n",
    "\n",
    "# Print the DataFrame\n",
    "print(durations_dataframe)"
   ]
  }
 ],
 "metadata": {
  "kernelspec": {
   "display_name": "Python 3 (ipykernel)",
   "language": "python",
   "name": "python3"
  },
  "language_info": {
   "codemirror_mode": {
    "name": "ipython",
    "version": 3
   },
   "file_extension": ".py",
   "mimetype": "text/x-python",
   "name": "python",
   "nbconvert_exporter": "python",
   "pygments_lexer": "ipython3",
   "version": "3.11.5"
  }
 },
 "nbformat": 4,
 "nbformat_minor": 5
}
